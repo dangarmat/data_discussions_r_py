{
 "cells": [
  {
   "cell_type": "code",
   "execution_count": 2,
   "metadata": {},
   "outputs": [],
   "source": [
    "#iris = read.csv(file=\"data/iris.data\", header = TRUE, sep = ',')"
   ]
  },
  {
   "cell_type": "markdown",
   "metadata": {},
   "source": [
    "# Structure - str(iris) - Is the most important command in R"
   ]
  },
  {
   "cell_type": "code",
   "execution_count": 3,
   "metadata": {},
   "outputs": [
    {
     "name": "stdout",
     "output_type": "stream",
     "text": [
      "'data.frame':\t150 obs. of  5 variables:\n",
      " $ Sepal.Length: num  5.1 4.9 4.7 4.6 5 5.4 4.6 5 4.4 4.9 ...\n",
      " $ Sepal.Width : num  3.5 3 3.2 3.1 3.6 3.9 3.4 3.4 2.9 3.1 ...\n",
      " $ Petal.Length: num  1.4 1.4 1.3 1.5 1.4 1.7 1.4 1.5 1.4 1.5 ...\n",
      " $ Petal.Width : num  0.2 0.2 0.2 0.2 0.2 0.4 0.3 0.2 0.2 0.1 ...\n",
      " $ Species     : Factor w/ 3 levels \"setosa\",\"versicolor\",..: 1 1 1 1 1 1 1 1 1 1 ...\n"
     ]
    }
   ],
   "source": [
    "str(iris)"
   ]
  },
  {
   "cell_type": "markdown",
   "metadata": {},
   "source": [
    "Tidy data is a standard way of mapping the meaning of a dataset to its structure.\n",
    "1. Each variable forms a column.\n",
    "2. Each observation forms a row.\n",
    "3. Each type of observational unit forms a table.\n",
    "https://cran.r-project.org/web/packages/tidyr/vignettes/tidy-data.html"
   ]
  },
  {
   "cell_type": "code",
   "execution_count": 4,
   "metadata": {},
   "outputs": [
    {
     "data": {
      "text/html": [
       "<table>\n",
       "<thead><tr><th scope=col>Sepal.Length</th><th scope=col>Sepal.Width</th><th scope=col>Petal.Length</th><th scope=col>Petal.Width</th><th scope=col>Species</th></tr></thead>\n",
       "<tbody>\n",
       "\t<tr><td>5.1   </td><td>3.5   </td><td>1.4   </td><td>0.2   </td><td>setosa</td></tr>\n",
       "\t<tr><td>4.9   </td><td>3.0   </td><td>1.4   </td><td>0.2   </td><td>setosa</td></tr>\n",
       "\t<tr><td>4.7   </td><td>3.2   </td><td>1.3   </td><td>0.2   </td><td>setosa</td></tr>\n",
       "\t<tr><td>4.6   </td><td>3.1   </td><td>1.5   </td><td>0.2   </td><td>setosa</td></tr>\n",
       "\t<tr><td>5.0   </td><td>3.6   </td><td>1.4   </td><td>0.2   </td><td>setosa</td></tr>\n",
       "\t<tr><td>5.4   </td><td>3.9   </td><td>1.7   </td><td>0.4   </td><td>setosa</td></tr>\n",
       "</tbody>\n",
       "</table>\n"
      ],
      "text/latex": [
       "\\begin{tabular}{r|lllll}\n",
       " Sepal.Length & Sepal.Width & Petal.Length & Petal.Width & Species\\\\\n",
       "\\hline\n",
       "\t 5.1    & 3.5    & 1.4    & 0.2    & setosa\\\\\n",
       "\t 4.9    & 3.0    & 1.4    & 0.2    & setosa\\\\\n",
       "\t 4.7    & 3.2    & 1.3    & 0.2    & setosa\\\\\n",
       "\t 4.6    & 3.1    & 1.5    & 0.2    & setosa\\\\\n",
       "\t 5.0    & 3.6    & 1.4    & 0.2    & setosa\\\\\n",
       "\t 5.4    & 3.9    & 1.7    & 0.4    & setosa\\\\\n",
       "\\end{tabular}\n"
      ],
      "text/markdown": [
       "\n",
       "Sepal.Length | Sepal.Width | Petal.Length | Petal.Width | Species | \n",
       "|---|---|---|---|---|---|\n",
       "| 5.1    | 3.5    | 1.4    | 0.2    | setosa | \n",
       "| 4.9    | 3.0    | 1.4    | 0.2    | setosa | \n",
       "| 4.7    | 3.2    | 1.3    | 0.2    | setosa | \n",
       "| 4.6    | 3.1    | 1.5    | 0.2    | setosa | \n",
       "| 5.0    | 3.6    | 1.4    | 0.2    | setosa | \n",
       "| 5.4    | 3.9    | 1.7    | 0.4    | setosa | \n",
       "\n",
       "\n"
      ],
      "text/plain": [
       "  Sepal.Length Sepal.Width Petal.Length Petal.Width Species\n",
       "1 5.1          3.5         1.4          0.2         setosa \n",
       "2 4.9          3.0         1.4          0.2         setosa \n",
       "3 4.7          3.2         1.3          0.2         setosa \n",
       "4 4.6          3.1         1.5          0.2         setosa \n",
       "5 5.0          3.6         1.4          0.2         setosa \n",
       "6 5.4          3.9         1.7          0.4         setosa "
      ]
     },
     "metadata": {},
     "output_type": "display_data"
    }
   ],
   "source": [
    "head(iris)"
   ]
  },
  {
   "cell_type": "code",
   "execution_count": 5,
   "metadata": {},
   "outputs": [
    {
     "name": "stderr",
     "output_type": "stream",
     "text": [
      "Loading tidyverse: ggplot2\n",
      "Loading tidyverse: tibble\n",
      "Loading tidyverse: tidyr\n",
      "Loading tidyverse: readr\n",
      "Loading tidyverse: purrr\n",
      "Loading tidyverse: dplyr\n",
      "Conflicts with tidy packages ---------------------------------------------------\n",
      "filter(): dplyr, stats\n",
      "lag():    dplyr, stats\n"
     ]
    }
   ],
   "source": [
    "library(tidyverse)\n",
    "\n",
    "iris.tidy <- iris %>%\n",
    "  gather(key, Value, -Species) %>%\n",
    "  separate(key, c(\"Part\", \"Measure\"), \"\\\\.\")"
   ]
  },
  {
   "cell_type": "code",
   "execution_count": 6,
   "metadata": {},
   "outputs": [
    {
     "name": "stdout",
     "output_type": "stream",
     "text": [
      "'data.frame':\t600 obs. of  4 variables:\n",
      " $ Species: Factor w/ 3 levels \"setosa\",\"versicolor\",..: 1 1 1 1 1 1 1 1 1 1 ...\n",
      " $ Part   : chr  \"Sepal\" \"Sepal\" \"Sepal\" \"Sepal\" ...\n",
      " $ Measure: chr  \"Length\" \"Length\" \"Length\" \"Length\" ...\n",
      " $ Value  : num  5.1 4.9 4.7 4.6 5 5.4 4.6 5 4.4 4.9 ...\n"
     ]
    }
   ],
   "source": [
    "str(iris.tidy)"
   ]
  },
  {
   "cell_type": "code",
   "execution_count": 8,
   "metadata": {},
   "outputs": [
    {
     "data": {
      "text/html": [
       "<table>\n",
       "<thead><tr><th scope=col>Species</th><th scope=col>Part</th><th scope=col>Measure</th><th scope=col>Value</th></tr></thead>\n",
       "<tbody>\n",
       "\t<tr><td>setosa</td><td>Sepal </td><td>Length</td><td>5.1   </td></tr>\n",
       "\t<tr><td>setosa</td><td>Sepal </td><td>Length</td><td>4.9   </td></tr>\n",
       "\t<tr><td>setosa</td><td>Sepal </td><td>Length</td><td>4.7   </td></tr>\n",
       "\t<tr><td>setosa</td><td>Sepal </td><td>Length</td><td>4.6   </td></tr>\n",
       "\t<tr><td>setosa</td><td>Sepal </td><td>Length</td><td>5.0   </td></tr>\n",
       "\t<tr><td>setosa</td><td>Sepal </td><td>Length</td><td>5.4   </td></tr>\n",
       "</tbody>\n",
       "</table>\n"
      ],
      "text/latex": [
       "\\begin{tabular}{r|llll}\n",
       " Species & Part & Measure & Value\\\\\n",
       "\\hline\n",
       "\t setosa & Sepal  & Length & 5.1   \\\\\n",
       "\t setosa & Sepal  & Length & 4.9   \\\\\n",
       "\t setosa & Sepal  & Length & 4.7   \\\\\n",
       "\t setosa & Sepal  & Length & 4.6   \\\\\n",
       "\t setosa & Sepal  & Length & 5.0   \\\\\n",
       "\t setosa & Sepal  & Length & 5.4   \\\\\n",
       "\\end{tabular}\n"
      ],
      "text/markdown": [
       "\n",
       "Species | Part | Measure | Value | \n",
       "|---|---|---|---|---|---|\n",
       "| setosa | Sepal  | Length | 5.1    | \n",
       "| setosa | Sepal  | Length | 4.9    | \n",
       "| setosa | Sepal  | Length | 4.7    | \n",
       "| setosa | Sepal  | Length | 4.6    | \n",
       "| setosa | Sepal  | Length | 5.0    | \n",
       "| setosa | Sepal  | Length | 5.4    | \n",
       "\n",
       "\n"
      ],
      "text/plain": [
       "  Species Part  Measure Value\n",
       "1 setosa  Sepal Length  5.1  \n",
       "2 setosa  Sepal Length  4.9  \n",
       "3 setosa  Sepal Length  4.7  \n",
       "4 setosa  Sepal Length  4.6  \n",
       "5 setosa  Sepal Length  5.0  \n",
       "6 setosa  Sepal Length  5.4  "
      ]
     },
     "metadata": {},
     "output_type": "display_data"
    }
   ],
   "source": [
    "head(iris.tidy)"
   ]
  },
  {
   "cell_type": "code",
   "execution_count": 7,
   "metadata": {},
   "outputs": [
    {
     "ename": "ERROR",
     "evalue": "Error in writeFeather(x, path): IO error: Failed to open file: data/iris.feather\n",
     "output_type": "error",
     "traceback": [
      "Error in writeFeather(x, path): IO error: Failed to open file: data/iris.feather\nTraceback:\n",
      "1. write_feather(iris, path)",
      "2. writeFeather(x, path)"
     ]
    }
   ],
   "source": [
    "library(feather)\n",
    "path <- \"data/iris.feather\"\n",
    "write_feather(iris, path)\n",
    "df <- read_feather(path)\n",
    "df"
   ]
  },
  {
   "cell_type": "code",
   "execution_count": null,
   "metadata": {},
   "outputs": [],
   "source": []
  }
 ],
 "metadata": {
  "kernelspec": {
   "display_name": "R",
   "language": "R",
   "name": "ir"
  }
 },
 "nbformat": 4,
 "nbformat_minor": 2
}
