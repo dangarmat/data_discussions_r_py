{
 "cells": [
  {
   "cell_type": "code",
<<<<<<< HEAD
   "execution_count": 1,
   "metadata": {},
   "outputs": [
    {
     "name": "stderr",
     "output_type": "stream",
     "text": [
      "Warning message in file(file, \"rt\"):\n",
      "“cannot open file '/home/cas/working_dir/python_r_ds/data/iris.data': No such file or directory”"
     ]
    },
    {
     "ename": "ERROR",
     "evalue": "Error in file(file, \"rt\"): cannot open the connection\n",
     "output_type": "error",
     "traceback": [
      "Error in file(file, \"rt\"): cannot open the connection\nTraceback:\n",
      "1. read.csv(file = \"/home/cas/working_dir/python_r_ds/data/iris.data\", \n .     header = TRUE, sep = \",\")",
      "2. read.table(file = file, header = header, sep = sep, quote = quote, \n .     dec = dec, fill = fill, comment.char = comment.char, ...)",
      "3. file(file, \"rt\")"
     ]
=======
   "execution_count": null,
   "metadata": {},
   "outputs": [],
   "source": [
    "iris = read.csv(file=\"/home/cas/working_dir/python_r_ds/data/iris.data\", header=TRUE, sep=\",\")\n",
    "head(iris)"
   ]
  },
  {
   "cell_type": "code",
   "execution_count": 3,
   "metadata": {},
   "outputs": [
    {
     "data": {
      "text/html": [
       "<table>\n",
       "<thead><tr><th scope=col>sepal_len</th><th scope=col>sepal_width</th><th scope=col>petal_len</th><th scope=col>petal_width</th><th scope=col>class</th><th scope=col>sepal_area</th><th scope=col>petal_area</th></tr></thead>\n",
       "<tbody>\n",
       "\t<tr><td>5.1        </td><td>3.5        </td><td>1.4        </td><td>0.2        </td><td>Iris-setosa</td><td>17.85      </td><td>0.28       </td></tr>\n",
       "\t<tr><td>4.9        </td><td>3.0        </td><td>1.4        </td><td>0.2        </td><td>Iris-setosa</td><td>14.70      </td><td>0.28       </td></tr>\n",
       "\t<tr><td>4.7        </td><td>3.2        </td><td>1.3        </td><td>0.2        </td><td>Iris-setosa</td><td>15.04      </td><td>0.26       </td></tr>\n",
       "\t<tr><td>4.6        </td><td>3.1        </td><td>1.5        </td><td>0.2        </td><td>Iris-setosa</td><td>14.26      </td><td>0.30       </td></tr>\n",
       "\t<tr><td>5.0        </td><td>3.6        </td><td>1.4        </td><td>0.2        </td><td>Iris-setosa</td><td>18.00      </td><td>0.28       </td></tr>\n",
       "\t<tr><td>5.4        </td><td>3.9        </td><td>1.7        </td><td>0.4        </td><td>Iris-setosa</td><td>21.06      </td><td>0.68       </td></tr>\n",
       "</tbody>\n",
       "</table>\n"
      ],
      "text/latex": [
       "\\begin{tabular}{r|lllllll}\n",
       " sepal\\_len & sepal\\_width & petal\\_len & petal\\_width & class & sepal\\_area & petal\\_area\\\\\n",
       "\\hline\n",
       "\t 5.1         & 3.5         & 1.4         & 0.2         & Iris-setosa & 17.85       & 0.28       \\\\\n",
       "\t 4.9         & 3.0         & 1.4         & 0.2         & Iris-setosa & 14.70       & 0.28       \\\\\n",
       "\t 4.7         & 3.2         & 1.3         & 0.2         & Iris-setosa & 15.04       & 0.26       \\\\\n",
       "\t 4.6         & 3.1         & 1.5         & 0.2         & Iris-setosa & 14.26       & 0.30       \\\\\n",
       "\t 5.0         & 3.6         & 1.4         & 0.2         & Iris-setosa & 18.00       & 0.28       \\\\\n",
       "\t 5.4         & 3.9         & 1.7         & 0.4         & Iris-setosa & 21.06       & 0.68       \\\\\n",
       "\\end{tabular}\n"
      ],
      "text/markdown": [
       "\n",
       "sepal_len | sepal_width | petal_len | petal_width | class | sepal_area | petal_area | \n",
       "|---|---|---|---|---|---|\n",
       "| 5.1         | 3.5         | 1.4         | 0.2         | Iris-setosa | 17.85       | 0.28        | \n",
       "| 4.9         | 3.0         | 1.4         | 0.2         | Iris-setosa | 14.70       | 0.28        | \n",
       "| 4.7         | 3.2         | 1.3         | 0.2         | Iris-setosa | 15.04       | 0.26        | \n",
       "| 4.6         | 3.1         | 1.5         | 0.2         | Iris-setosa | 14.26       | 0.30        | \n",
       "| 5.0         | 3.6         | 1.4         | 0.2         | Iris-setosa | 18.00       | 0.28        | \n",
       "| 5.4         | 3.9         | 1.7         | 0.4         | Iris-setosa | 21.06       | 0.68        | \n",
       "\n",
       "\n"
      ],
      "text/plain": [
       "  sepal_len sepal_width petal_len petal_width class       sepal_area petal_area\n",
       "1 5.1       3.5         1.4       0.2         Iris-setosa 17.85      0.28      \n",
       "2 4.9       3.0         1.4       0.2         Iris-setosa 14.70      0.28      \n",
       "3 4.7       3.2         1.3       0.2         Iris-setosa 15.04      0.26      \n",
       "4 4.6       3.1         1.5       0.2         Iris-setosa 14.26      0.30      \n",
       "5 5.0       3.6         1.4       0.2         Iris-setosa 18.00      0.28      \n",
       "6 5.4       3.9         1.7       0.4         Iris-setosa 21.06      0.68      "
      ]
     },
     "metadata": {},
     "output_type": "display_data"
>>>>>>> 8f7290e3e024182a1b71f8b22da70609feff1884
    }
   ],
   "source": [
    "library(feather)\n",
    "df <- read_feather(\"/home/cas/working_dir/python_r_ds/data/iris_feather.feather\")\n",
    "head(df)"
   ]
  },
  {
   "cell_type": "code",
<<<<<<< HEAD
   "execution_count": 2,
   "metadata": {},
   "outputs": [
    {
     "ename": "NameError",
     "evalue": "name 'iris' is not defined",
     "output_type": "error",
     "traceback": [
      "\u001b[0;31m---------------------------------------------------------------------------\u001b[0m",
      "\u001b[0;31mNameError\u001b[0m                                 Traceback (most recent call last)",
      "\u001b[0;32m<ipython-input-2-05bc02830fd2>\u001b[0m in \u001b[0;36m<module>\u001b[0;34m()\u001b[0m\n\u001b[0;32m----> 1\u001b[0;31m \u001b[0mstr\u001b[0m\u001b[0;34m(\u001b[0m\u001b[0miris\u001b[0m\u001b[0;34m)\u001b[0m\u001b[0;34m\u001b[0m\u001b[0m\n\u001b[0m",
      "\u001b[0;31mNameError\u001b[0m: name 'iris' is not defined"
     ]
    }
   ],
   "source": [
    "str(iris)"
   ]
  },
  {
   "cell_type": "code",
=======
>>>>>>> 8f7290e3e024182a1b71f8b22da70609feff1884
   "execution_count": null,
   "metadata": {},
   "outputs": [],
   "source": []
  }
 ],
 "metadata": {
  "kernelspec": {
   "display_name": "Python 3",
   "language": "python",
   "name": "python3"
  },
  "language_info": {
   "codemirror_mode": {
    "name": "ipython",
    "version": 3
   },
   "file_extension": ".py",
   "mimetype": "text/x-python",
   "name": "python",
   "nbconvert_exporter": "python",
   "pygments_lexer": "ipython3",
   "version": "3.6.3"
  }
 },
 "nbformat": 4,
 "nbformat_minor": 2
}
