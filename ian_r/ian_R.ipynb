{
 "cells": [
  {
   "cell_type": "code",
   "execution_count": 4,
   "metadata": {},
   "outputs": [
    {
     "data": {
      "text/html": [
       "<table>\n",
       "<thead><tr><th scope=col>sepal_len</th><th scope=col>sepal_width</th><th scope=col>petal_len</th><th scope=col>petal_width</th><th scope=col>class</th></tr></thead>\n",
       "<tbody>\n",
       "\t<tr><td>5.1        </td><td>3.5        </td><td>1.4        </td><td>0.2        </td><td>Iris-setosa</td></tr>\n",
       "\t<tr><td>4.9        </td><td>3.0        </td><td>1.4        </td><td>0.2        </td><td>Iris-setosa</td></tr>\n",
       "\t<tr><td>4.7        </td><td>3.2        </td><td>1.3        </td><td>0.2        </td><td>Iris-setosa</td></tr>\n",
       "\t<tr><td>4.6        </td><td>3.1        </td><td>1.5        </td><td>0.2        </td><td>Iris-setosa</td></tr>\n",
       "\t<tr><td>5.0        </td><td>3.6        </td><td>1.4        </td><td>0.2        </td><td>Iris-setosa</td></tr>\n",
       "\t<tr><td>5.4        </td><td>3.9        </td><td>1.7        </td><td>0.4        </td><td>Iris-setosa</td></tr>\n",
       "</tbody>\n",
       "</table>\n"
      ],
      "text/latex": [
       "\\begin{tabular}{r|lllll}\n",
       " sepal\\_len & sepal\\_width & petal\\_len & petal\\_width & class\\\\\n",
       "\\hline\n",
       "\t 5.1         & 3.5         & 1.4         & 0.2         & Iris-setosa\\\\\n",
       "\t 4.9         & 3.0         & 1.4         & 0.2         & Iris-setosa\\\\\n",
       "\t 4.7         & 3.2         & 1.3         & 0.2         & Iris-setosa\\\\\n",
       "\t 4.6         & 3.1         & 1.5         & 0.2         & Iris-setosa\\\\\n",
       "\t 5.0         & 3.6         & 1.4         & 0.2         & Iris-setosa\\\\\n",
       "\t 5.4         & 3.9         & 1.7         & 0.4         & Iris-setosa\\\\\n",
       "\\end{tabular}\n"
      ],
      "text/markdown": [
       "\n",
       "sepal_len | sepal_width | petal_len | petal_width | class | \n",
       "|---|---|---|---|---|---|\n",
       "| 5.1         | 3.5         | 1.4         | 0.2         | Iris-setosa | \n",
       "| 4.9         | 3.0         | 1.4         | 0.2         | Iris-setosa | \n",
       "| 4.7         | 3.2         | 1.3         | 0.2         | Iris-setosa | \n",
       "| 4.6         | 3.1         | 1.5         | 0.2         | Iris-setosa | \n",
       "| 5.0         | 3.6         | 1.4         | 0.2         | Iris-setosa | \n",
       "| 5.4         | 3.9         | 1.7         | 0.4         | Iris-setosa | \n",
       "\n",
       "\n"
      ],
      "text/plain": [
       "  sepal_len sepal_width petal_len petal_width class      \n",
       "1 5.1       3.5         1.4       0.2         Iris-setosa\n",
       "2 4.9       3.0         1.4       0.2         Iris-setosa\n",
       "3 4.7       3.2         1.3       0.2         Iris-setosa\n",
       "4 4.6       3.1         1.5       0.2         Iris-setosa\n",
       "5 5.0       3.6         1.4       0.2         Iris-setosa\n",
       "6 5.4       3.9         1.7       0.4         Iris-setosa"
      ]
     },
     "metadata": {},
     "output_type": "display_data"
    }
   ],
   "source": [
    "iris = read.csv(file=\"/home/cas/working_dir/python_r_ds/data/iris.data\", header=TRUE, sep=\",\")\n",
    "head(iris)"
   ]
  },
  {
   "cell_type": "code",
   "execution_count": null,
   "metadata": {},
   "outputs": [],
   "source": []
  }
 ],
 "metadata": {
  "kernelspec": {
   "display_name": "R",
   "language": "R",
   "name": "ir"
  },
  "language_info": {
   "codemirror_mode": "r",
   "file_extension": ".r",
   "mimetype": "text/x-r-source",
   "name": "R",
   "pygments_lexer": "r",
   "version": "3.4.2"
  }
 },
 "nbformat": 4,
 "nbformat_minor": 2
}
